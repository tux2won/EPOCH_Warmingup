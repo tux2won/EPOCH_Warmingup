{
  "cells": [
    {
      "cell_type": "markdown",
      "metadata": {
        "id": "i5SNYHlaNg7u"
      },
      "source": [
        "# 1. MNIST 데이터셋으로 분류기를 만들어 테스트 세트에서 97% 정확도를 달성해보세요."
      ]
    },
    {
      "cell_type": "code",
      "execution_count": 7,
      "metadata": {
        "colab": {
          "base_uri": "https://localhost:8080/"
        },
        "id": "yEkWFf3-9adu",
        "outputId": "1b164e58-76a9-40f3-926a-a1f10e509e00"
      },
      "outputs": [
        {
          "output_type": "execute_result",
          "data": {
            "text/plain": [
              "dict_keys(['data', 'target', 'frame', 'categories', 'feature_names', 'target_names', 'DESCR', 'details', 'url'])"
            ]
          },
          "metadata": {},
          "execution_count": 7
        }
      ],
      "source": [
        "from sklearn.datasets import fetch_openml\n",
        "from matplotlib import pyplot as plt\n",
        "from sklearn.neighbors import KNeighborsClassifier\n",
        "from sklearn.model_selection import train_test_split, RandomizedSearchCV\n",
        "from sklearn.metrics import accuracy_score\n",
        "\n",
        "mnist = fetch_openml('mnist_784', version=1, as_frame=False)\n",
        "mnist.keys()"
      ]
    },
    {
      "cell_type": "code",
      "execution_count": 8,
      "metadata": {
        "id": "wAqfRwZoQh4_"
      },
      "outputs": [],
      "source": [
        "train = mnist['data']\n",
        "test = mnist['target']"
      ]
    },
    {
      "cell_type": "code",
      "execution_count": 10,
      "metadata": {
        "id": "eS1zeSXv55YD"
      },
      "outputs": [],
      "source": [
        "# 학습, 테스트 데이터 분리\n",
        "X_train, X_test, y_train, y_test = train_test_split(train, test, train_size=0.8, random_state=42)"
      ]
    },
    {
      "cell_type": "markdown",
      "source": [
        "# **KNeighborsClassifier**  \n",
        "n_neighbors: 분류 시 고려할 인접 샘플 수\n",
        "\n",
        "wieights(default='uniform'): distance로 설정하면 가까울수록 큰 가중치 부여하여 계산\n",
        "\n",
        "![image.png](https://img1.daumcdn.net/thumb/R1280x0/?scode=mtistory2&fname=https%3A%2F%2Ft1.daumcdn.net%2Fcfile%2Ftistory%2F9931AB3D5A634B8626)"
      ],
      "metadata": {
        "id": "hV45xy5q0Hrc"
      }
    },
    {
      "cell_type": "markdown",
      "source": [
        "# **GridSearch와 RandomizedSearch**  \n",
        "최적의 하이퍼 파라미터를 찾기 위한 방법  \n",
        "\n",
        "GridSearchCV: 파라미터별 후보 값들을 주고 가능한 모든 조합을 탐색  \n",
        "RandomizedSearch: 파라미터별 후보 값들 혹은 값의 범위를 주고 n_iter 수만큼 random하게 조합하는 과정을 반복"
      ],
      "metadata": {
        "id": "JOhp2Q7hrvFo"
      }
    },
    {
      "cell_type": "code",
      "execution_count": null,
      "metadata": {
        "colab": {
          "base_uri": "https://localhost:8080/"
        },
        "id": "17tF2czlUjdh",
        "outputId": "60bf6efb-a5ec-4202-8df6-26fdd46760d6"
      },
      "outputs": [
        {
          "name": "stderr",
          "output_type": "stream",
          "text": [
            "/usr/local/lib/python3.11/dist-packages/sklearn/model_selection/_search.py:317: UserWarning: The total space of parameters 6 is smaller than n_iter=10. Running 6 iterations. For exhaustive searches, use GridSearchCV.\n",
            "  warnings.warn(\n"
          ]
        },
        {
          "name": "stdout",
          "output_type": "stream",
          "text": [
            "Fitting 5 folds for each of 6 candidates, totalling 30 fits\n",
            "[CV 1/5] END ....n_neighbors=3, weights=uniform;, score=0.969 total time=  46.9s\n",
            "[CV 2/5] END ....n_neighbors=3, weights=uniform;, score=0.969 total time=  39.0s\n",
            "[CV 3/5] END ....n_neighbors=3, weights=uniform;, score=0.972 total time=  36.3s\n",
            "[CV 4/5] END ....n_neighbors=3, weights=uniform;, score=0.971 total time=  37.4s\n",
            "[CV 5/5] END ....n_neighbors=3, weights=uniform;, score=0.970 total time=  42.0s\n",
            "[CV 1/5] END ...n_neighbors=3, weights=distance;, score=0.971 total time=  36.7s\n",
            "[CV 2/5] END ...n_neighbors=3, weights=distance;, score=0.970 total time=  37.0s\n",
            "[CV 3/5] END ...n_neighbors=3, weights=distance;, score=0.973 total time=  37.7s\n",
            "[CV 4/5] END ...n_neighbors=3, weights=distance;, score=0.972 total time=  35.7s\n",
            "[CV 5/5] END ...n_neighbors=3, weights=distance;, score=0.971 total time=  37.7s\n",
            "[CV 1/5] END ....n_neighbors=4, weights=uniform;, score=0.967 total time=  44.8s\n",
            "[CV 2/5] END ....n_neighbors=4, weights=uniform;, score=0.970 total time=  49.0s\n",
            "[CV 3/5] END ....n_neighbors=4, weights=uniform;, score=0.969 total time=  51.4s\n",
            "[CV 4/5] END ....n_neighbors=4, weights=uniform;, score=0.969 total time=  43.1s\n",
            "[CV 5/5] END ....n_neighbors=4, weights=uniform;, score=0.967 total time=  50.2s\n",
            "[CV 1/5] END ...n_neighbors=4, weights=distance;, score=0.971 total time=  49.1s\n",
            "[CV 2/5] END ...n_neighbors=4, weights=distance;, score=0.973 total time=  41.6s\n",
            "[CV 3/5] END ...n_neighbors=4, weights=distance;, score=0.973 total time=  37.4s\n",
            "[CV 4/5] END ...n_neighbors=4, weights=distance;, score=0.972 total time=  37.5s\n",
            "[CV 5/5] END ...n_neighbors=4, weights=distance;, score=0.971 total time=  39.5s\n",
            "[CV 1/5] END ....n_neighbors=5, weights=uniform;, score=0.967 total time=  40.2s\n",
            "[CV 2/5] END ....n_neighbors=5, weights=uniform;, score=0.969 total time=  42.6s\n",
            "[CV 3/5] END ....n_neighbors=5, weights=uniform;, score=0.972 total time=  45.0s\n",
            "[CV 4/5] END ....n_neighbors=5, weights=uniform;, score=0.969 total time=  51.6s\n",
            "[CV 5/5] END ....n_neighbors=5, weights=uniform;, score=0.967 total time=  36.8s\n",
            "[CV 1/5] END ...n_neighbors=5, weights=distance;, score=0.968 total time=  55.5s\n",
            "[CV 2/5] END ...n_neighbors=5, weights=distance;, score=0.971 total time=  39.0s\n",
            "[CV 3/5] END ...n_neighbors=5, weights=distance;, score=0.973 total time=  37.5s\n",
            "[CV 4/5] END ...n_neighbors=5, weights=distance;, score=0.970 total time=  37.6s\n",
            "[CV 5/5] END ...n_neighbors=5, weights=distance;, score=0.968 total time=  35.3s\n",
            "{'weights': 'distance', 'n_neighbors': 4}\n",
            "0.9721964285714286\n",
            "0.9700714285714286\n",
            "0.9731428571428572\n"
          ]
        }
      ],
      "source": [
        "# KNeighborsClassifier로 학습\n",
        "knn_clf = KNeighborsClassifier()\n",
        "knn_clf.fit(X_train, y_train)\n",
        "\n",
        "# Randomized Search 사용해 학습\n",
        "params = {\n",
        "    'n_neighbors' : [3, 4, 5],\n",
        "    'weights' : ['uniform', 'distance'],\n",
        "    # 'algorithm' : ['auto', 'ball_tree', 'kd_tree']\n",
        "}\n",
        "rs_knn_clf = RandomizedSearchCV(\n",
        "    param_distributions = params,\n",
        "    estimator = knn_clf,\n",
        "    n_iter = 10, # 10개의 조합만큼 random search\n",
        "    cv = 5, # 분할 검증 횟수\n",
        "    verbose = 3,\n",
        ")\n",
        "rs_knn_clf.fit(X_train, y_train)\n",
        "print(rs_knn_clf.best_params_)\n",
        "print(rs_knn_clf.best_score_)\n",
        "\n",
        "# 예측\n",
        "y_pred1 = knn_clf.predict(X_test)\n",
        "y_pred2 = rs_knn_clf.predict(X_test)\n",
        "acc1 = accuracy_score(y_test, y_pred1)\n",
        "acc2 = accuracy_score(y_test, y_pred2)\n",
        "print(acc1)\n",
        "print(acc2)\n"
      ]
    },
    {
      "cell_type": "markdown",
      "source": [
        "# 2. 픽셀 이동을 통한 데이터 증강"
      ],
      "metadata": {
        "id": "JsL70b965ZNu"
      }
    },
    {
      "cell_type": "markdown",
      "metadata": {
        "id": "Ho4VIzBt7qF6"
      },
      "source": [
        "# **numpy array와 list의 차이점**\n",
        "\n",
        "list: [1, 2, 3, 4, 5]  \n",
        "np.array: array([1, 2, 3, 4, 5])  \n",
        "\n",
        "넘파이 배열은 **팬시 인덱싱** 가능  \n",
        "팬시인덱싱: 정수나 boolean 값을 갖는 다른 넘파이 배열로 인덱싱을 할 수 있는 기능  \n",
        "-> 배열로 인덱싱을 하기 위해서는 리스트를 넘파이 배열로 바꿔줘야됨.\n",
        "\n"
      ]
    },
    {
      "cell_type": "markdown",
      "metadata": {
        "id": "K-g5DTJrE56Q"
      },
      "source": [
        "# **넘파이 배열과 append 함수**  \n",
        "**넘파이 배열은 크기가 고정**돼있어 배열 자체에 추가를 하는 함수를 사용할 수 없음.  \n",
        "\n",
        "a = np.array([1, 2, 3])이라는 배열이 있을 때 a.append(4)는 배열 a에 직접적으로 변형을 가하기 때문에 사용 불가  \n",
        "대신 new_a = np.append(a, 4)와 같이 새로운 배열에 추가해주는 방식으로 append를 사용 가능\n"
      ]
    },
    {
      "cell_type": "code",
      "execution_count": 11,
      "metadata": {
        "colab": {
          "base_uri": "https://localhost:8080/"
        },
        "id": "dXgjmj4QD1Ko",
        "outputId": "37ff74dc-d5af-4e4d-febd-d86d413a4491"
      },
      "outputs": [
        {
          "output_type": "execute_result",
          "data": {
            "text/plain": [
              "(784,)"
            ]
          },
          "metadata": {},
          "execution_count": 11
        }
      ],
      "source": [
        "X_train[0].shape"
      ]
    },
    {
      "cell_type": "code",
      "execution_count": 12,
      "metadata": {
        "colab": {
          "base_uri": "https://localhost:8080/"
        },
        "id": "VTJM7Wo3q2pm",
        "outputId": "daf0fa87-f56a-4fe3-99ce-9489432d32a5"
      },
      "outputs": [
        {
          "output_type": "stream",
          "name": "stdout",
          "text": [
            "0.9789285714285715\n"
          ]
        }
      ],
      "source": [
        "from scipy.ndimage import shift\n",
        "import numpy as np\n",
        "\n",
        "def shift_image(image, dx, dy):\n",
        "  # image는 X_train에서 받아온 데이터\n",
        "  # X_train은 1차원 넘파이배열(ndarray), 이미지형태 조작은 2D 배열로 바꿔줘야됨.\n",
        "  image = image.reshape((28, 28))\n",
        "  shifted_image = shift(image, [dy, dx], cval=0)\n",
        "  return shifted_image.reshape([-1])\n",
        "\n",
        "X_train_augmented = list(X_train.copy()) # append 함수 사용 위해 lsit로 바꿈\n",
        "y_train_augmented = list(y_train.copy())\n",
        "\n",
        "for dx, dy in [(-1, 0), (1, 0), (0, -1), (0, 1)]:\n",
        "  for img, label in zip(X_train, y_train):\n",
        "    X_train_augmented.append(shift_image(img, dx, dy))\n",
        "    y_train_augmented.append(label)\n",
        "\n",
        "# shift_image 함수에서 넘파이 배열로 되더라도 X_train_augmented에는 리스트 형태로 담김.\n",
        "# 팬시 인덱싱 위해서는 형변환 필요\n",
        "X_train_augmented = np.array(X_train_augmented)\n",
        "y_train_augmented = np.array(y_train_augmented)\n",
        "\n",
        "shuffle_idx = np.random.permutation(len(X_train_augmented))\n",
        "X_train_augmented = X_train_augmented[shuffle_idx]\n",
        "y_train_augmented = y_train_augmented[shuffle_idx]\n",
        "\n",
        "# KNeighborsClassifier로 학습\n",
        "knn_clf = KNeighborsClassifier()\n",
        "knn_clf.fit(X_train_augmented, y_train_augmented)\n",
        "\n",
        "# Randomized Search 사용해 학습\n",
        "params = {\n",
        "    'n_neighbors' : range(3, 6),\n",
        "    'weights' : ['uniform', 'distance'],\n",
        "    # 'algorithm' : ['auto', 'ball_tree', 'kd_tree']\n",
        "}\n",
        "rs_knn_clf = RandomizedSearchCV(\n",
        "    param_distributions = params,\n",
        "    estimator = knn_clf,\n",
        "    n_iter = 5,\n",
        "    cv = 3,\n",
        "    verbose = 1,\n",
        ")\n",
        "#rs_knn_clf.fit(X_train_augmented, y_train_augmented)\n",
        "#print(rs_knn_clf.best_params_)\n",
        "#print(rs_knn_clf.best_score_)\n",
        "\n",
        "# 예측\n",
        "y_pred1 = knn_clf.predict(X_test)\n",
        "#y_pred2 = rs_knn_clf.predict(X_test)\n",
        "acc1 = accuracy_score(y_test, y_pred1)\n",
        "#acc2 = accuracy_score(y_test, y_pred2)\n",
        "print(acc1)\n",
        "#print(acc2)\n",
        "\n"
      ]
    }
  ],
  "metadata": {
    "colab": {
      "provenance": []
    },
    "kernelspec": {
      "display_name": "Python 3",
      "name": "python3"
    },
    "language_info": {
      "name": "python"
    }
  },
  "nbformat": 4,
  "nbformat_minor": 0
}