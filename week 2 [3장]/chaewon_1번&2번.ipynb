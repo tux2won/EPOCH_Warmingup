{
  "nbformat": 4,
  "nbformat_minor": 0,
  "metadata": {
    "colab": {
      "provenance": []
    },
    "kernelspec": {
      "name": "python3",
      "display_name": "Python 3"
    },
    "language_info": {
      "name": "python"
    }
  },
  "cells": [
    {
      "cell_type": "markdown",
      "source": [
        "## (1) MNIST 데이터셋으로 분류기를 만들어 테스트 세트에서 97% 정확도를 달성해보세요."
      ],
      "metadata": {
        "id": "TGWekvm5_RO9"
      }
    },
    {
      "cell_type": "code",
      "execution_count": 6,
      "metadata": {
        "id": "XBInVvVf-_V-"
      },
      "outputs": [],
      "source": [
        "from sklearn.datasets import fetch_openml\n",
        "from sklearn.model_selection import train_test_split, GridSearchCV\n",
        "from sklearn.neighbors import KNeighborsClassifier\n",
        "from sklearn.metrics import accuracy_score\n",
        "import numpy as np\n",
        "from scipy.ndimage import shift\n",
        "import matplotlib.pyplot as plt"
      ]
    },
    {
      "cell_type": "code",
      "source": [
        "print(\"MNIST 데이터셋 로드 중...\")\n",
        "mnist = fetch_openml('mnist_784', version=1, as_frame=False)\n",
        "X, y = mnist.data, mnist.target.astype(np.int64)\n",
        "\n",
        "# 데이터 분할 (60000개 훈련, 10000개 테스트)\n",
        "X_train, X_test, y_train, y_test = X[:60000], X[60000:], y[:60000], y[60000:]\n",
        "print(f\"훈련 데이터 크기: {X_train.shape}, 테스트 데이터 크기: {X_test.shape}\")"
      ],
      "metadata": {
        "colab": {
          "base_uri": "https://localhost:8080/"
        },
        "id": "bSGvL7Py_YaG",
        "outputId": "100c689a-31ef-43c0-94bb-efa7178ffe1f"
      },
      "execution_count": 7,
      "outputs": [
        {
          "output_type": "stream",
          "name": "stdout",
          "text": [
            "MNIST 데이터셋 로드 중...\n",
            "훈련 데이터 크기: (60000, 784), 테스트 데이터 크기: (10000, 784)\n"
          ]
        }
      ]
    },
    {
      "cell_type": "code",
      "source": [
        "print(\"\\n기본 KNN 모델 테스트 중...\")\n",
        "\n",
        "# 기본 매개변수(n_neighbors=5, weights='uniform')로 KNN 모델 생성\n",
        "base_knn = KNeighborsClassifier()\n",
        "base_knn.fit(X_train, y_train)\n",
        "baseline_acc = base_knn.score(X_test, y_test)\n",
        "print(f\"기본 KNN 모델 정확도: {baseline_acc:.4f}\")"
      ],
      "metadata": {
        "colab": {
          "base_uri": "https://localhost:8080/"
        },
        "id": "owPMxa0a_fhA",
        "outputId": "46d492cb-12fe-43c4-c226-a4a75ee6b90a"
      },
      "execution_count": 9,
      "outputs": [
        {
          "output_type": "stream",
          "name": "stdout",
          "text": [
            "\n",
            "기본 KNN 모델 테스트 중...\n",
            "기본 KNN 모델 정확도: 0.9688\n"
          ]
        }
      ]
    },
    {
      "cell_type": "code",
      "source": [
        "print(\"\\n최적 하이퍼파라미터 탐색 중...\")\n",
        "# 탐색할 하이퍼파라미터 그리드 정의\n",
        "param_grid = {\n",
        "    'n_neighbors': range(3, 6),  # 힌트에서 권장한 하이퍼파라미터\n",
        "    'weights': ['uniform', 'distance']  # 힌트에서 권장한 하이퍼파라미터\n",
        "}\n",
        "\n",
        "# 전체 데이터는 매우 큰 계산 비용이 필요하므로, 표본 추출하여 그리드 서치 수행\n",
        "grid_search = GridSearchCV(\n",
        "    KNeighborsClassifier(), param_grid, cv=3,\n",
        "    scoring='accuracy', n_jobs=-1\n",
        ")\n",
        "# 10,000개 데이터 표본으로 그리드 서치 실행\n",
        "grid_search.fit(X_train[:10000], y_train[:10000])\n",
        "\n",
        "# 결과 출력\n",
        "print(f\"최적 하이퍼파라미터: {grid_search.best_params_}\")\n",
        "print(f\"최고 교차 검증 정확도: {grid_search.best_score_:.4f}\")"
      ],
      "metadata": {
        "colab": {
          "base_uri": "https://localhost:8080/"
        },
        "id": "GjuzrjFc_hAX",
        "outputId": "fed4dcf3-e7db-4717-8e01-146483f8f448"
      },
      "execution_count": 10,
      "outputs": [
        {
          "output_type": "stream",
          "name": "stdout",
          "text": [
            "\n",
            "최적 하이퍼파라미터 탐색 중...\n",
            "최적 하이퍼파라미터: {'n_neighbors': 4, 'weights': 'distance'}\n",
            "최고 교차 검증 정확도: 0.9398\n"
          ]
        }
      ]
    },
    {
      "cell_type": "code",
      "source": [
        "print(\"\\n최적 하이퍼파라미터로 전체 훈련 데이터셋에서 모델 훈련 중...\")\n",
        "# 최적 하이퍼파라미터로 새 모델 생성\n",
        "best_knn = KNeighborsClassifier(**grid_search.best_params_)\n",
        "# 전체 훈련 데이터로 학습\n",
        "best_knn.fit(X_train, y_train)\n",
        "# 테스트 세트에서 평가\n",
        "best_acc = best_knn.score(X_test, y_test)\n",
        "print(f\"최적 KNN 모델 정확도: {best_acc:.4f}\")"
      ],
      "metadata": {
        "colab": {
          "base_uri": "https://localhost:8080/"
        },
        "id": "Gh-Y7lzr_mIr",
        "outputId": "20386a80-9475-40cc-b69a-f3f18eb5990a"
      },
      "execution_count": 11,
      "outputs": [
        {
          "output_type": "stream",
          "name": "stdout",
          "text": [
            "\n",
            "최적 하이퍼파라미터로 전체 훈련 데이터셋에서 모델 훈련 중...\n",
            "최적 KNN 모델 정확도: 0.9714\n"
          ]
        }
      ]
    },
    {
      "cell_type": "markdown",
      "source": [
        "## (2) MNIST 이미지를 (왼, 오른, 위, 아래 ) 어느 방향으로든 한 픽셀 이동시킬 수 있는 함수를 만들어보세요."
      ],
      "metadata": {
        "id": "Iz6Xop0ADLwV"
      }
    },
    {
      "cell_type": "code",
      "source": [
        "from sklearn.datasets import fetch_openml\n",
        "from sklearn.model_selection import train_test_split\n",
        "from sklearn.neighbors import KNeighborsClassifier\n",
        "from sklearn.metrics import accuracy_score\n",
        "import numpy as np\n",
        "import matplotlib.pyplot as plt\n",
        "from scipy.ndimage import shift  # 이미지 이동을 위한 함수"
      ],
      "metadata": {
        "id": "Cq7vvJSLDSNd"
      },
      "execution_count": 12,
      "outputs": []
    },
    {
      "cell_type": "code",
      "source": [
        "def shift_image(image, direction):\n",
        "    \"\"\"\n",
        "    MNIST 이미지를 지정된 방향으로 한 픽셀 이동시키는 함수\n",
        "\n",
        "    매개변수:\n",
        "        image: 원본 이미지 (1D 배열, 길이 784)\n",
        "        direction: 이동 방향 ('left', 'right', 'up', 'down')\n",
        "\n",
        "    반환값:\n",
        "        이동된 이미지 (1D 배열, 길이 784)\n",
        "    \"\"\"\n",
        "    # 1D 이미지를 28x28 2D 이미지로 변환\n",
        "    image_2d = image.reshape(28, 28)\n",
        "\n",
        "    # 방향에 따라 이동 벡터 설정\n",
        "    if direction == 'left':\n",
        "        shift_vector = [0, -1]\n",
        "    elif direction == 'right':\n",
        "        shift_vector = [0, 1]\n",
        "    elif direction == 'up':\n",
        "        shift_vector = [-1, 0]\n",
        "    elif direction == 'down':\n",
        "        shift_vector = [1, 0]\n",
        "    else:\n",
        "        raise ValueError(\"방향은 'left', 'right', 'up', 'down' 중 하나여야 합니다.\")\n",
        "\n",
        "    # 이미지 이동(빈 공간은 0으로 채움)\n",
        "    shifted_image = shift(image_2d, shift_vector, mode='constant', cval=0)\n",
        "\n",
        "    # 2D 이미지를 다시 1D로 변환하여 반환\n",
        "    return shifted_image.reshape(-1)"
      ],
      "metadata": {
        "id": "jbLzg49MDVmH"
      },
      "execution_count": 13,
      "outputs": []
    },
    {
      "cell_type": "code",
      "source": [
        "# 샘플 이미지 선택\n",
        "sample_idx = 12  # 임의의 인덱스\n",
        "sample_image = X_train[sample_idx]\n",
        "sample_label = y_train[sample_idx]\n",
        "\n",
        "# 원본과 이동된 이미지 시각화\n",
        "plt.figure(figsize=(12, 3))\n",
        "\n",
        "# 원본 이미지\n",
        "plt.subplot(1, 5, 1)\n",
        "plt.imshow(sample_image.reshape(28, 28), cmap='gray')\n",
        "plt.title(f\"원본 (레이블: {sample_label})\")\n",
        "plt.axis('off')\n",
        "\n",
        "# 네 방향으로 이동된 이미지\n",
        "directions = ['left', 'right', 'up', 'down']\n",
        "for i, direction in enumerate(directions):\n",
        "    shifted = shift_image(sample_image, direction)\n",
        "    plt.subplot(1, 5, i+2)\n",
        "    plt.imshow(shifted.reshape(28, 28), cmap='gray')\n",
        "    plt.title(f\"{direction} 이동\")\n",
        "    plt.axis('off')\n",
        "\n",
        "plt.tight_layout()\n",
        "plt.show()"
      ],
      "metadata": {
        "colab": {
          "base_uri": "https://localhost:8080/",
          "height": 719
        },
        "id": "A0g98EyQDXyp",
        "outputId": "2ec81e09-5782-464d-ef7b-d8dbe228e6f4"
      },
      "execution_count": 14,
      "outputs": [
        {
          "output_type": "stream",
          "name": "stderr",
          "text": [
            "<ipython-input-14-e6e4c7b41b78>:24: UserWarning: Glyph 50896 (\\N{HANGUL SYLLABLE WEON}) missing from font(s) DejaVu Sans.\n",
            "  plt.tight_layout()\n",
            "<ipython-input-14-e6e4c7b41b78>:24: UserWarning: Glyph 48376 (\\N{HANGUL SYLLABLE BON}) missing from font(s) DejaVu Sans.\n",
            "  plt.tight_layout()\n",
            "<ipython-input-14-e6e4c7b41b78>:24: UserWarning: Glyph 47112 (\\N{HANGUL SYLLABLE RE}) missing from font(s) DejaVu Sans.\n",
            "  plt.tight_layout()\n",
            "<ipython-input-14-e6e4c7b41b78>:24: UserWarning: Glyph 51060 (\\N{HANGUL SYLLABLE I}) missing from font(s) DejaVu Sans.\n",
            "  plt.tight_layout()\n",
            "<ipython-input-14-e6e4c7b41b78>:24: UserWarning: Glyph 48660 (\\N{HANGUL SYLLABLE BEUL}) missing from font(s) DejaVu Sans.\n",
            "  plt.tight_layout()\n",
            "<ipython-input-14-e6e4c7b41b78>:24: UserWarning: Glyph 46041 (\\N{HANGUL SYLLABLE DONG}) missing from font(s) DejaVu Sans.\n",
            "  plt.tight_layout()\n",
            "/usr/local/lib/python3.11/dist-packages/IPython/core/pylabtools.py:151: UserWarning: Glyph 50896 (\\N{HANGUL SYLLABLE WEON}) missing from font(s) DejaVu Sans.\n",
            "  fig.canvas.print_figure(bytes_io, **kw)\n",
            "/usr/local/lib/python3.11/dist-packages/IPython/core/pylabtools.py:151: UserWarning: Glyph 48376 (\\N{HANGUL SYLLABLE BON}) missing from font(s) DejaVu Sans.\n",
            "  fig.canvas.print_figure(bytes_io, **kw)\n",
            "/usr/local/lib/python3.11/dist-packages/IPython/core/pylabtools.py:151: UserWarning: Glyph 47112 (\\N{HANGUL SYLLABLE RE}) missing from font(s) DejaVu Sans.\n",
            "  fig.canvas.print_figure(bytes_io, **kw)\n",
            "/usr/local/lib/python3.11/dist-packages/IPython/core/pylabtools.py:151: UserWarning: Glyph 51060 (\\N{HANGUL SYLLABLE I}) missing from font(s) DejaVu Sans.\n",
            "  fig.canvas.print_figure(bytes_io, **kw)\n",
            "/usr/local/lib/python3.11/dist-packages/IPython/core/pylabtools.py:151: UserWarning: Glyph 48660 (\\N{HANGUL SYLLABLE BEUL}) missing from font(s) DejaVu Sans.\n",
            "  fig.canvas.print_figure(bytes_io, **kw)\n",
            "/usr/local/lib/python3.11/dist-packages/IPython/core/pylabtools.py:151: UserWarning: Glyph 46041 (\\N{HANGUL SYLLABLE DONG}) missing from font(s) DejaVu Sans.\n",
            "  fig.canvas.print_figure(bytes_io, **kw)\n"
          ]
        },
        {
          "output_type": "display_data",
          "data": {
            "text/plain": [
              "<Figure size 1200x300 with 5 Axes>"
            ],
            "image/png": "[encoded data removed]"
          },
          "metadata": {}
        }
      ]
    },
    {
      "cell_type": "code",
      "source": [
        "print(\"\\n데이터 증강 중...\")\n",
        "# 원본 데이터를 리스트로 변환\n",
        "X_augmented = list(X_train)\n",
        "y_augmented = list(y_train)\n",
        "\n",
        "# 처리 시간이 오래 걸릴 수 있으므로 진행 상황 표시\n",
        "directions = ['left', 'right', 'up', 'down']\n",
        "for i, image in enumerate(X_train):\n",
        "    if i % 10000 == 0:  # 10,000개마다 진행 상황 출력\n",
        "        print(f\"  처리 중: {i}/{len(X_train)} 이미지\")\n",
        "\n",
        "    # 네 방향으로 이동된 이미지 생성 및 추가\n",
        "    for direction in directions:\n",
        "        shifted_image = shift_image(image, direction)\n",
        "        X_augmented.append(shifted_image)\n",
        "        y_augmented.append(y_train[i])  # 원본과 동일한 레이블 유지\n",
        "\n",
        "# 리스트를 NumPy 배열로 변환\n",
        "X_augmented = np.array(X_augmented)\n",
        "y_augmented = np.array(y_augmented)\n",
        "\n",
        "print(\"데이터 증강 완료!\")\n",
        "print(f\"원본 훈련 데이터 크기: {X_train.shape}\")\n",
        "print(f\"증강 후 훈련 데이터 크기: {X_augmented.shape}\")\n",
        "print(f\"증강 비율: {X_augmented.shape[0] / X_train.shape[0]:.1f}배\")"
      ],
      "metadata": {
        "colab": {
          "base_uri": "https://localhost:8080/"
        },
        "id": "ZkvZjGoqDZ4G",
        "outputId": "b11e7203-0761-4dd8-f523-c3bf9f31c52e"
      },
      "execution_count": 15,
      "outputs": [
        {
          "output_type": "stream",
          "name": "stdout",
          "text": [
            "\n",
            "데이터 증강 중...\n",
            "  처리 중: 0/60000 이미지\n",
            "  처리 중: 10000/60000 이미지\n",
            "  처리 중: 20000/60000 이미지\n",
            "  처리 중: 30000/60000 이미지\n",
            "  처리 중: 40000/60000 이미지\n",
            "  처리 중: 50000/60000 이미지\n",
            "데이터 증강 완료!\n",
            "원본 훈련 데이터 크기: (60000, 784)\n",
            "증강 후 훈련 데이터 크기: (300000, 784)\n",
            "증강 비율: 5.0배\n"
          ]
        }
      ]
    },
    {
      "cell_type": "code",
      "source": [
        "optimal_params = {'n_neighbors': 4, 'weights': 'distance'}\n",
        "\n",
        "print(\"\\n원본 데이터로 KNN 모델 훈련 및 평가 중...\")\n",
        "original_knn = KNeighborsClassifier(**optimal_params)\n",
        "original_knn.fit(X_train, y_train)\n",
        "original_acc = original_knn.score(X_test, y_test)\n",
        "\n",
        "print(\"\\n증강 데이터로 KNN 모델 훈련 및 평가 중...\")\n",
        "augmented_knn = KNeighborsClassifier(**optimal_params)\n",
        "augmented_knn.fit(X_augmented, y_augmented)\n",
        "augmented_acc = augmented_knn.score(X_test, y_test)\n",
        "\n",
        "print(f\"\\n원본 데이터 모델 정확도: {original_acc:.4f}\")\n",
        "print(f\"증강 데이터 모델 정확도: {augmented_acc:.4f}\")\n",
        "print(f\"정확도 향상: {augmented_acc - original_acc:.4f}\")"
      ],
      "metadata": {
        "colab": {
          "base_uri": "https://localhost:8080/"
        },
        "id": "HUr9l8KKDeXW",
        "outputId": "e3e16e40-5cc6-4347-c784-5c4f4fa77654"
      },
      "execution_count": 16,
      "outputs": [
        {
          "output_type": "stream",
          "name": "stdout",
          "text": [
            "\n",
            "원본 데이터로 KNN 모델 훈련 및 평가 중...\n",
            "\n",
            "증강 데이터로 KNN 모델 훈련 및 평가 중...\n",
            "\n",
            "원본 데이터 모델 정확도: 0.9714\n",
            "증강 데이터 모델 정확도: 0.9763\n",
            "정확도 향상: 0.0049\n"
          ]
        }
      ]
    }
  ]
}